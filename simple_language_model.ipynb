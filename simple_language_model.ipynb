{
 "cells": [
  {
   "cell_type": "code",
   "execution_count": 1,
   "metadata": {},
   "outputs": [],
   "source": [
    "from torchtext import *\n",
    "from fastai import *\n",
    "import torch\n",
    "from fastai.text import *\n",
    "from torchtext.datasets import Multi30k, LanguageModelingDataset\n",
    "from models import *\n",
    "from torchtext.data import *"
   ]
  },
  {
   "cell_type": "code",
   "execution_count": 2,
   "metadata": {},
   "outputs": [
    {
     "data": {
      "text/plain": [
       "fastai.datasets.URLs"
      ]
     },
     "execution_count": 2,
     "metadata": {},
     "output_type": "execute_result"
    }
   ],
   "source": [
    "URLs"
   ]
  },
  {
   "cell_type": "code",
   "execution_count": 2,
   "metadata": {},
   "outputs": [
    {
     "data": {
      "text/plain": [
       "[PosixPath('/home/louis/.fastai/data/human_numbers/models'),\n",
       " PosixPath('/home/louis/.fastai/data/human_numbers/train.txt'),\n",
       " PosixPath('/home/louis/.fastai/data/human_numbers/valid.txt')]"
      ]
     },
     "execution_count": 2,
     "metadata": {},
     "output_type": "execute_result"
    }
   ],
   "source": [
    "path = untar_data(URLs.HUMAN_NUMBERS)\n",
    "path.ls()"
   ]
  },
  {
   "cell_type": "code",
   "execution_count": 3,
   "metadata": {},
   "outputs": [],
   "source": [
    "lm_ds = LanguageModelingDataset(path/'train.txt', Field(), newline_eos=False)\n",
    "lm_ds_valid = LanguageModelingDataset(path/'valid.txt', Field(), newline_eos=False)"
   ]
  },
  {
   "cell_type": "code",
   "execution_count": 14,
   "metadata": {},
   "outputs": [],
   "source": [
    "field = lm_ds.fields['text']"
   ]
  },
  {
   "cell_type": "code",
   "execution_count": 4,
   "metadata": {},
   "outputs": [],
   "source": [
    "bs = 64\n",
    "bptt = 50"
   ]
  },
  {
   "cell_type": "code",
   "execution_count": 5,
   "metadata": {},
   "outputs": [],
   "source": [
    "it = BPTTIterator(lm_ds, bs, bptt)\n",
    "it_valid = BPTTIterator(lm_ds_valid, bs, bptt)"
   ]
  },
  {
   "cell_type": "code",
   "execution_count": 6,
   "metadata": {},
   "outputs": [],
   "source": [
    "lm_ds.fields['text'].build_vocab([lm_ds[0].text])\n",
    "lm_ds_valid.fields['text'].vocab = lm_ds.fields['text'].vocab"
   ]
  },
  {
   "cell_type": "code",
   "execution_count": 7,
   "metadata": {},
   "outputs": [],
   "source": [
    "def print_matrix(matrix) :\n",
    "    s=\"\"\n",
    "    for i in range(len(matrix)) :\n",
    "        s += \"[\"\n",
    "        for j in range(len(matrix[0])) :\n",
    "            s += matrix[i][j] + \", \"\n",
    "        s+= \"]\\n\"\n",
    "    print(s)"
   ]
  },
  {
   "cell_type": "code",
   "execution_count": 8,
   "metadata": {},
   "outputs": [],
   "source": [
    "def to_text(x, vocab) :\n",
    "    \n",
    "    x_t = x.transpose(0, 1)\n",
    "    text = [[vocab[x_t[i, j].item()] for j in range(x_t.shape[1])] for i in range(x.shape[0])]\n",
    "    print_matrix(text)\n",
    "    \n",
    "    return text"
   ]
  },
  {
   "cell_type": "code",
   "execution_count": null,
   "metadata": {
    "scrolled": true
   },
   "outputs": [],
   "source": [
    "counter = 0\n",
    "for x in it : \n",
    "    if counter < 3 :\n",
    "        to_text(x.text, lm_ds.fields['text'].vocab.itos)\n",
    "        to_text(x.target, lm_ds.fields['text'].vocab.itos)"
   ]
  },
  {
   "cell_type": "code",
   "execution_count": 9,
   "metadata": {},
   "outputs": [],
   "source": [
    "def train_epochs(epochs, model, iterator_train, loss_function, optimizer, lr=0.2, iterator_valid = None, show_info=True, **kwargs) :\n",
    "    \n",
    "    losses = []\n",
    "    opt = optimizer(model.parameters(), lr=lr)\n",
    "    \n",
    "    model.cuda()\n",
    "    for i in range(epochs) :\n",
    "        train_loss = 0\n",
    "        counter = 0\n",
    "        accuracy = 0\n",
    "        model.train()\n",
    "        for batch in iterator_train :\n",
    "            x = batch.text\n",
    "            y = batch.target\n",
    "            x = x.cuda()\n",
    "            y = y.cuda()\n",
    "            pred = model(x.transpose(0,1))\n",
    "            loss = loss_function(pred, y.transpose(0,1))\n",
    "            train_loss += loss\n",
    "            counter += 1\n",
    "            accuracy += (torch.argmax(pred, dim=2) == y.transpose(0,1)).type(torch.FloatTensor).mean() \n",
    "            loss.backward()\n",
    "            opt.step()\n",
    "            opt.zero_grad()\n",
    "        train_loss = train_loss/float(counter)\n",
    "        accuracy = accuracy/float(counter)\n",
    "        \n",
    "        if iterator_valid is not None :\n",
    "            counter_v = 0\n",
    "\n",
    "            model.eval()\n",
    "            valid_loss = 0\n",
    "            accuracy_valid = 0\n",
    "            for batch in iterator_valid :\n",
    "                x = batch.text\n",
    "                y = batch.target\n",
    "                x = x.cuda()\n",
    "                y = y.cuda()\n",
    "                pred = model(x.transpose(0,1))\n",
    "                loss = loss_function(pred, y.transpose(0,1))\n",
    "                valid_loss += loss\n",
    "                accuracy_valid += (torch.argmax(pred, dim=2) == y.transpose(0,1)).type(torch.FloatTensor).mean() \n",
    "                counter_v+= 1\n",
    "            valid_loss = train_loss/float(counter_v)\n",
    "            accuracy_valid = accuracy_valid/float(counter_v)\n",
    "            losses.append(valid_loss)\n",
    "            if show_info:\n",
    "                print(\"Epoch {:.0f} training loss : {:.3f}, train accuracy : {:.3f}, validation loss : {:.3f}, val accuracy : {:.3f}\".format(i, train_loss, accuracy, valid_loss, accuracy_valid))\n",
    "        \n",
    "        else :\n",
    "            if show_info :\n",
    "                print(\"Epoch {:.0f} training loss : {:.3f}, train accuracy : {:.3f}\").format(i, train_loss, accuracy)\n",
    "    return losses"
   ]
  },
  {
   "cell_type": "code",
   "execution_count": 10,
   "metadata": {},
   "outputs": [],
   "source": [
    "optimizer = optim.SGD"
   ]
  },
  {
   "cell_type": "code",
   "execution_count": 14,
   "metadata": {},
   "outputs": [
    {
     "name": "stdout",
     "output_type": "stream",
     "text": [
      "Epoch 0 training loss : 2.576, train accuracy : 0.319, validation loss : 0.644, val accuracy : 0.329\n",
      "Epoch 1 training loss : 1.968, train accuracy : 0.385, validation loss : 0.492, val accuracy : 0.256\n",
      "Epoch 2 training loss : 1.795, train accuracy : 0.414, validation loss : 0.449, val accuracy : 0.342\n",
      "Epoch 3 training loss : 1.670, train accuracy : 0.459, validation loss : 0.418, val accuracy : 0.431\n",
      "Epoch 4 training loss : 1.537, train accuracy : 0.509, validation loss : 0.384, val accuracy : 0.445\n",
      "Epoch 5 training loss : 1.372, train accuracy : 0.566, validation loss : 0.343, val accuracy : 0.471\n",
      "Epoch 6 training loss : 1.224, train accuracy : 0.618, validation loss : 0.306, val accuracy : 0.442\n",
      "Epoch 7 training loss : 1.110, train accuracy : 0.661, validation loss : 0.278, val accuracy : 0.470\n",
      "Epoch 8 training loss : 1.002, train accuracy : 0.707, validation loss : 0.251, val accuracy : 0.477\n",
      "Epoch 9 training loss : 0.929, train accuracy : 0.726, validation loss : 0.232, val accuracy : 0.548\n"
     ]
    }
   ],
   "source": [
    "loss = train_epochs(10, mRNN(100, bs), it, CrossEntropyFlat(), optimizer, iterator_valid=it_valid)"
   ]
  },
  {
   "cell_type": "code",
   "execution_count": 13,
   "metadata": {},
   "outputs": [
    {
     "name": "stdout",
     "output_type": "stream",
     "text": [
      "Epoch 0 training loss : 2.807, train accuracy : 0.310, validation loss : 0.702, val accuracy : 0.309\n",
      "Epoch 1 training loss : 2.071, train accuracy : 0.429, validation loss : 0.518, val accuracy : 0.387\n",
      "Epoch 2 training loss : 1.681, train accuracy : 0.535, validation loss : 0.420, val accuracy : 0.474\n",
      "Epoch 3 training loss : 1.492, train accuracy : 0.612, validation loss : 0.373, val accuracy : 0.546\n",
      "Epoch 4 training loss : 1.307, train accuracy : 0.669, validation loss : 0.327, val accuracy : 0.559\n",
      "Epoch 5 training loss : 1.179, train accuracy : 0.700, validation loss : 0.295, val accuracy : 0.475\n",
      "Epoch 6 training loss : 1.076, train accuracy : 0.725, validation loss : 0.269, val accuracy : 0.532\n",
      "Epoch 7 training loss : 0.968, train accuracy : 0.745, validation loss : 0.242, val accuracy : 0.543\n",
      "Epoch 8 training loss : 0.876, train accuracy : 0.764, validation loss : 0.219, val accuracy : 0.542\n",
      "Epoch 9 training loss : 0.811, train accuracy : 0.773, validation loss : 0.203, val accuracy : 0.501\n"
     ]
    }
   ],
   "source": [
    "loss = train_epochs(10, mGRU(100, bs), it, CrossEntropyFlat(), optimizer, iterator_valid=it_valid)"
   ]
  },
  {
   "cell_type": "code",
   "execution_count": 15,
   "metadata": {},
   "outputs": [
    {
     "name": "stdout",
     "output_type": "stream",
     "text": [
      "train run : 0\n",
      "train run : 1\n",
      "train run : 2\n",
      "train run : 3\n",
      "train run : 4\n",
      "train run : 5\n",
      "train run : 6\n",
      "train run : 7\n",
      "train run : 8\n",
      "train run : 9\n"
     ]
    },
    {
     "data": {
      "text/plain": [
       "(tensor([0.0587, 0.0456, 0.0400, 0.0324, 0.0272, 0.0226, 0.0198, 0.0171, 0.0147,\n",
       "         0.0129, 0.0114, 0.0100, 0.0086, 0.0073, 0.0071, 0.0057, 0.0057, 0.0051,\n",
       "         0.0044, 0.0041, 0.0038, 0.0036, 0.0048, 0.0063, 0.0032, 0.0029, 0.0027,\n",
       "         0.0026, 0.0024, 0.0023]),\n",
       " tensor([0.0629, 0.0440, 0.0353, 0.0298, 0.0258, 0.0229, 0.0202, 0.0181, 0.0159,\n",
       "         0.0147, 0.0124, 0.0117, 0.0104, 0.0090, 0.0081, 0.0070, 0.0062, 0.0063,\n",
       "         0.0052, 0.0047, 0.0044, 0.0040, 0.0039, 0.0037, 0.0035, 0.0033, 0.0032,\n",
       "         0.0030, 0.0029, 0.0028]))"
      ]
     },
     "execution_count": 15,
     "metadata": {},
     "output_type": "execute_result"
    }
   ],
   "source": [
    "train_nbr = 10\n",
    "epochs = 30\n",
    "\n",
    "for i in range(train_nbr) :\n",
    "    avg_m1, avg_m2 = torch.zeros(epochs), torch.zeros(epochs)\n",
    "    avg_m1 = avg_m1 + (torch.tensor(train_epochs(epochs, mRNN(200, bs), it, CrossEntropyFlat(), optimizer, lr=0.2, iterator_valid=it_valid, show_info=False))/train_nbr)\n",
    "    avg_m2 = avg_m2 + (torch.tensor(train_epochs(epochs, mGRU(200, bs), it, CrossEntropyFlat(), optimizer, lr=0.2, iterator_valid=it_valid, show_info=False))/train_nbr)\n",
    "    print(f\"train run : {i}\")\n",
    "avg_m1, avg_m2"
   ]
  },
  {
   "cell_type": "code",
   "execution_count": 11,
   "metadata": {},
   "outputs": [],
   "source": [
    "import matplotlib.pyplot as plt\n",
    "from matplotlib.pyplot import figure"
   ]
  },
  {
   "cell_type": "code",
   "execution_count": 18,
   "metadata": {},
   "outputs": [
    {
     "data": {
      "image/png": "[encoded data removed]",
      "text/plain": [
       "<Figure size 720x360 with 1 Axes>"
      ]
     },
     "metadata": {
      "needs_background": "light"
     },
     "output_type": "display_data"
    }
   ],
   "source": [
    "figure(figsize=(10, 5))\n",
    "plt.plot(range(epochs), avg_m1, marker='o', label='RNN')\n",
    "plt.plot(range(epochs), avg_m2, marker='o', label='GRU')\n",
    "plt.xlabel('Epochs')\n",
    "plt.ylabel('Loss')\n",
    "plt.legend()\n",
    "plt.show()"
   ]
  },
  {
   "cell_type": "code",
   "execution_count": 36,
   "metadata": {},
   "outputs": [],
   "source": [
    "class language_predictor() :\n",
    "    def __init__(self, language_model, vocab) :\n",
    "        self.nh = language_model.nh\n",
    "        self.nv = language_model.nv\n",
    "        self.i_h = language_model.i_h.cuda() #embedding\n",
    "        self.cell = language_model.cell.cuda()\n",
    "        self.h_o = language_model.h_o.cuda()\n",
    "        self.bn = language_model.bn.cuda()\n",
    "        self.layers = language_model.layers\n",
    "        self.bs = 1\n",
    "        \n",
    "        \n",
    "    def predict(self, word, size) :\n",
    "        word = word.split(' ')\n",
    "        word_ids = [lm_ds.fields['text'].vocab.stoi[w] for w in word]\n",
    "        print(word_ids)\n",
    "        \n",
    "        h = torch.zeros(self.layers, self.bs, self.nh).cuda()\n",
    "        x = torch.Tensor([word_ids]).type(torch.LongTensor).cuda()\n",
    "        \n",
    "        res, h = self.cell(self.i_h(x), h)\n",
    "        h = h.detach()\n",
    "        \n",
    "        \n",
    "        x = torch.argmax(nn.Softmax(dim=2)(self.h_o(self.bn(h))), dim=2).type(torch.LongTensor).cuda()\n",
    "        words = []\n",
    "        \n",
    "        for i in range(size) :\n",
    "            res, h = self.cell(self.i_h(x), h)\n",
    "            word_id = torch.argmax(nn.Softmax(dim=2)(self.h_o(self.bn(res))), dim=2).type(torch.LongTensor).cuda()\n",
    "            word = lm_ds.fields['text'].vocab.itos[word_id[0,0].item()]\n",
    "            words.append(word)\n",
    "            x = word_id\n",
    "        return words\n",
    "    \n",
    "    def sm_pred(self, word) :\n",
    "        word = word.split(' ')\n",
    "        word_ids = [lm_ds.fields['text'].vocab.stoi[w] for w in word]\n",
    "        print(word_ids)\n",
    "        \n",
    "        h = torch.zeros(self.layers, self.bs, self.nh).cuda()\n",
    "        x = torch.Tensor([word_ids]).type(torch.LongTensor).cuda()        \n",
    "        \n",
    "        res, h = self.cell(self.i_h(x), h)\n",
    "        h = h.detach()\n",
    "        \n",
    "        return torch.argmax(nn.Softmax(dim=2)(self.h_o(self.bn(res))), dim=2)"
   ]
  },
  {
   "cell_type": "code",
   "execution_count": 174,
   "metadata": {},
   "outputs": [],
   "source": [
    "model_t = mGRU(200, bs)"
   ]
  },
  {
   "cell_type": "code",
   "execution_count": 175,
   "metadata": {},
   "outputs": [
    {
     "name": "stdout",
     "output_type": "stream",
     "text": [
      "Epoch 0 training loss : 2.603, train accuracy : 0.334, validation loss : 0.651, val accuracy : 0.319\n",
      "Epoch 1 training loss : 1.850, train accuracy : 0.508, validation loss : 0.463, val accuracy : 0.470\n",
      "Epoch 2 training loss : 1.460, train accuracy : 0.638, validation loss : 0.365, val accuracy : 0.522\n",
      "Epoch 3 training loss : 1.228, train accuracy : 0.702, validation loss : 0.307, val accuracy : 0.544\n",
      "Epoch 4 training loss : 1.071, train accuracy : 0.732, validation loss : 0.268, val accuracy : 0.498\n",
      "Epoch 5 training loss : 0.941, train accuracy : 0.754, validation loss : 0.235, val accuracy : 0.517\n",
      "Epoch 6 training loss : 0.833, train accuracy : 0.773, validation loss : 0.208, val accuracy : 0.538\n",
      "Epoch 7 training loss : 0.759, train accuracy : 0.786, validation loss : 0.190, val accuracy : 0.543\n",
      "Epoch 8 training loss : 0.670, train accuracy : 0.806, validation loss : 0.168, val accuracy : 0.548\n",
      "Epoch 9 training loss : 0.602, train accuracy : 0.824, validation loss : 0.150, val accuracy : 0.534\n"
     ]
    }
   ],
   "source": [
    "loss = train_epochs(10, model_t, it, CrossEntropyFlat(), optimizer, iterator_valid=it_valid)"
   ]
  },
  {
   "cell_type": "code",
   "execution_count": 172,
   "metadata": {},
   "outputs": [],
   "source": [
    "def accuracy_over_batches(iterator, model) :\n",
    "    n_batches = len(iterator)\n",
    "    accuracy = []\n",
    "    print(n_batches)\n",
    "    for x in iterator :\n",
    "        text = x.text.t().cuda()\n",
    "        y = x.target.t().cuda()\n",
    "        res = model_t(text)\n",
    "        accuracy.append((torch.argmax(nn.Softmax(dim=2)(res), dim=2).type(torch.LongTensor).cuda() == x.target.t().cuda()).type(torch.FloatTensor).mean().item())\n",
    "    return accuracy"
   ]
  },
  {
   "cell_type": "code",
   "execution_count": 187,
   "metadata": {},
   "outputs": [
    {
     "name": "stdout",
     "output_type": "stream",
     "text": [
      "14\n"
     ]
    },
    {
     "data": {
      "text/plain": [
       "[0.6534374952316284,\n",
       " 0.7043750286102295,\n",
       " 0.7103124856948853,\n",
       " 0.699999988079071,\n",
       " 0.7134374976158142,\n",
       " 0.7143750190734863,\n",
       " 0.7143750190734863,\n",
       " 0.7159374952316284,\n",
       " 0.7065625190734863,\n",
       " 0.714062511920929,\n",
       " 0.7074999809265137,\n",
       " 0.7056249976158142,\n",
       " 0.715624988079071,\n",
       " 0.7388392686843872]"
      ]
     },
     "execution_count": 187,
     "metadata": {},
     "output_type": "execute_result"
    }
   ],
   "source": [
    "accuracy_over_batches(it, model_t)"
   ]
  },
  {
   "cell_type": "code",
   "execution_count": 167,
   "metadata": {},
   "outputs": [
    {
     "data": {
      "text/plain": [
       "tensor([[ 6,  2, 20,  ...,  2, 19, 10],\n",
       "        [ 6,  6,  2,  ...,  4,  5,  2],\n",
       "        [ 2, 17,  4,  ...,  2, 13,  4],\n",
       "        ...,\n",
       "        [ 4,  2, 18,  ...,  5,  2, 17],\n",
       "        [ 3,  6,  2,  ...,  6,  3,  6],\n",
       "        [ 4,  7,  3,  ...,  1,  1,  1]], device='cuda:0')"
      ]
     },
     "execution_count": 167,
     "metadata": {},
     "output_type": "execute_result"
    }
   ],
   "source": [
    "torch.argmax(nn.Softmax(dim=2)(res), dim=2).type(torch.LongTensor).cuda()"
   ]
  },
  {
   "cell_type": "code",
   "execution_count": 161,
   "metadata": {},
   "outputs": [
    {
     "data": {
      "text/plain": [
       "tensor(0.6562)"
      ]
     },
     "execution_count": 161,
     "metadata": {},
     "output_type": "execute_result"
    }
   ],
   "source": [
    "(torch.argmax(nn.Softmax(dim=2)(res), dim=2).type(torch.LongTensor).cuda() == x.target.t().cuda()).type(torch.FloatTensor).mean()"
   ]
  },
  {
   "cell_type": "code",
   "execution_count": null,
   "metadata": {},
   "outputs": [],
   "source": []
  },
  {
   "cell_type": "code",
   "execution_count": 37,
   "metadata": {},
   "outputs": [],
   "source": [
    "l_pred = language_predictor(model_t.cuda().eval(), lm_ds.fields['text'].vocab)"
   ]
  },
  {
   "cell_type": "code",
   "execution_count": 43,
   "metadata": {},
   "outputs": [
    {
     "name": "stdout",
     "output_type": "stream",
     "text": [
      "[6, 10, 9, 5, 4, 8, 0]\n"
     ]
    }
   ],
   "source": [
    "res = l_pred.sm_pred('one two three four five six sven')"
   ]
  },
  {
   "cell_type": "code",
   "execution_count": 44,
   "metadata": {},
   "outputs": [
    {
     "data": {
      "text/plain": [
       "tensor([[2, 2, 2, 3, 3, 3, 5]], device='cuda:0')"
      ]
     },
     "execution_count": 44,
     "metadata": {},
     "output_type": "execute_result"
    }
   ],
   "source": [
    "res\n"
   ]
  },
  {
   "cell_type": "code",
   "execution_count": 29,
   "metadata": {},
   "outputs": [
    {
     "data": {
      "text/plain": [
       "torch.Size([2, 1, 200])"
      ]
     },
     "execution_count": 29,
     "metadata": {},
     "output_type": "execute_result"
    }
   ],
   "source": [
    "h.detach().shape"
   ]
  },
  {
   "cell_type": "code",
   "execution_count": 18,
   "metadata": {},
   "outputs": [],
   "source": [
    "x = torch.Tensor([[6, 10, 9, 5]]).type(torch.LongTensor).cuda()"
   ]
  },
  {
   "cell_type": "code",
   "execution_count": 19,
   "metadata": {},
   "outputs": [
    {
     "ename": "RuntimeError",
     "evalue": "Expected hidden size (2, 1, 200), got (2, 64, 200)",
     "output_type": "error",
     "traceback": [
      "\u001b[0;31m---------------------------------------------------------------------------\u001b[0m",
      "\u001b[0;31mRuntimeError\u001b[0m                              Traceback (most recent call last)",
      "\u001b[0;32m<ipython-input-19-ea13fcc501ee>\u001b[0m in \u001b[0;36m<module>\u001b[0;34m\u001b[0m\n\u001b[0;32m----> 1\u001b[0;31m \u001b[0mmodel_t\u001b[0m\u001b[0;34m(\u001b[0m\u001b[0mx\u001b[0m\u001b[0;34m)\u001b[0m\u001b[0;34m\u001b[0m\u001b[0;34m\u001b[0m\u001b[0m\n\u001b[0m",
      "\u001b[0;32m~/anaconda3/envs/zarr/lib/python3.7/site-packages/torch/nn/modules/module.py\u001b[0m in \u001b[0;36m__call__\u001b[0;34m(self, *input, **kwargs)\u001b[0m\n\u001b[1;32m    491\u001b[0m             \u001b[0mresult\u001b[0m \u001b[0;34m=\u001b[0m \u001b[0mself\u001b[0m\u001b[0;34m.\u001b[0m\u001b[0m_slow_forward\u001b[0m\u001b[0;34m(\u001b[0m\u001b[0;34m*\u001b[0m\u001b[0minput\u001b[0m\u001b[0;34m,\u001b[0m \u001b[0;34m**\u001b[0m\u001b[0mkwargs\u001b[0m\u001b[0;34m)\u001b[0m\u001b[0;34m\u001b[0m\u001b[0;34m\u001b[0m\u001b[0m\n\u001b[1;32m    492\u001b[0m         \u001b[0;32melse\u001b[0m\u001b[0;34m:\u001b[0m\u001b[0;34m\u001b[0m\u001b[0;34m\u001b[0m\u001b[0m\n\u001b[0;32m--> 493\u001b[0;31m             \u001b[0mresult\u001b[0m \u001b[0;34m=\u001b[0m \u001b[0mself\u001b[0m\u001b[0;34m.\u001b[0m\u001b[0mforward\u001b[0m\u001b[0;34m(\u001b[0m\u001b[0;34m*\u001b[0m\u001b[0minput\u001b[0m\u001b[0;34m,\u001b[0m \u001b[0;34m**\u001b[0m\u001b[0mkwargs\u001b[0m\u001b[0;34m)\u001b[0m\u001b[0;34m\u001b[0m\u001b[0;34m\u001b[0m\u001b[0m\n\u001b[0m\u001b[1;32m    494\u001b[0m         \u001b[0;32mfor\u001b[0m \u001b[0mhook\u001b[0m \u001b[0;32min\u001b[0m \u001b[0mself\u001b[0m\u001b[0;34m.\u001b[0m\u001b[0m_forward_hooks\u001b[0m\u001b[0;34m.\u001b[0m\u001b[0mvalues\u001b[0m\u001b[0;34m(\u001b[0m\u001b[0;34m)\u001b[0m\u001b[0;34m:\u001b[0m\u001b[0;34m\u001b[0m\u001b[0;34m\u001b[0m\u001b[0m\n\u001b[1;32m    495\u001b[0m             \u001b[0mhook_result\u001b[0m \u001b[0;34m=\u001b[0m \u001b[0mhook\u001b[0m\u001b[0;34m(\u001b[0m\u001b[0mself\u001b[0m\u001b[0;34m,\u001b[0m \u001b[0minput\u001b[0m\u001b[0;34m,\u001b[0m \u001b[0mresult\u001b[0m\u001b[0;34m)\u001b[0m\u001b[0;34m\u001b[0m\u001b[0;34m\u001b[0m\u001b[0m\n",
      "\u001b[0;32m~/Documents/NLP_satl/models.py\u001b[0m in \u001b[0;36mforward\u001b[0;34m(self, x)\u001b[0m\n\u001b[1;32m     60\u001b[0m \u001b[0;34m\u001b[0m\u001b[0m\n\u001b[1;32m     61\u001b[0m     \u001b[0;32mdef\u001b[0m \u001b[0mforward\u001b[0m\u001b[0;34m(\u001b[0m\u001b[0mself\u001b[0m\u001b[0;34m,\u001b[0m \u001b[0mx\u001b[0m\u001b[0;34m)\u001b[0m\u001b[0;34m:\u001b[0m\u001b[0;34m\u001b[0m\u001b[0;34m\u001b[0m\u001b[0m\n\u001b[0;32m---> 62\u001b[0;31m         \u001b[0mres\u001b[0m\u001b[0;34m,\u001b[0m\u001b[0mh\u001b[0m \u001b[0;34m=\u001b[0m \u001b[0mself\u001b[0m\u001b[0;34m.\u001b[0m\u001b[0mcell\u001b[0m\u001b[0;34m(\u001b[0m\u001b[0mself\u001b[0m\u001b[0;34m.\u001b[0m\u001b[0mi_h\u001b[0m\u001b[0;34m(\u001b[0m\u001b[0mx\u001b[0m\u001b[0;34m)\u001b[0m\u001b[0;34m,\u001b[0m \u001b[0mself\u001b[0m\u001b[0;34m.\u001b[0m\u001b[0mh\u001b[0m\u001b[0;34m)\u001b[0m\u001b[0;34m\u001b[0m\u001b[0;34m\u001b[0m\u001b[0m\n\u001b[0m\u001b[1;32m     63\u001b[0m         \u001b[0mself\u001b[0m\u001b[0;34m.\u001b[0m\u001b[0mh\u001b[0m \u001b[0;34m=\u001b[0m \u001b[0mh\u001b[0m\u001b[0;34m.\u001b[0m\u001b[0mdetach\u001b[0m\u001b[0;34m(\u001b[0m\u001b[0;34m)\u001b[0m\u001b[0;34m\u001b[0m\u001b[0;34m\u001b[0m\u001b[0m\n\u001b[1;32m     64\u001b[0m         \u001b[0;32mreturn\u001b[0m \u001b[0mself\u001b[0m\u001b[0;34m.\u001b[0m\u001b[0mh_o\u001b[0m\u001b[0;34m(\u001b[0m\u001b[0mself\u001b[0m\u001b[0;34m.\u001b[0m\u001b[0mbn\u001b[0m\u001b[0;34m(\u001b[0m\u001b[0mres\u001b[0m\u001b[0;34m)\u001b[0m\u001b[0;34m)\u001b[0m\u001b[0;34m\u001b[0m\u001b[0;34m\u001b[0m\u001b[0m\n",
      "\u001b[0;32m~/anaconda3/envs/zarr/lib/python3.7/site-packages/torch/nn/modules/module.py\u001b[0m in \u001b[0;36m__call__\u001b[0;34m(self, *input, **kwargs)\u001b[0m\n\u001b[1;32m    491\u001b[0m             \u001b[0mresult\u001b[0m \u001b[0;34m=\u001b[0m \u001b[0mself\u001b[0m\u001b[0;34m.\u001b[0m\u001b[0m_slow_forward\u001b[0m\u001b[0;34m(\u001b[0m\u001b[0;34m*\u001b[0m\u001b[0minput\u001b[0m\u001b[0;34m,\u001b[0m \u001b[0;34m**\u001b[0m\u001b[0mkwargs\u001b[0m\u001b[0;34m)\u001b[0m\u001b[0;34m\u001b[0m\u001b[0;34m\u001b[0m\u001b[0m\n\u001b[1;32m    492\u001b[0m         \u001b[0;32melse\u001b[0m\u001b[0;34m:\u001b[0m\u001b[0;34m\u001b[0m\u001b[0;34m\u001b[0m\u001b[0m\n\u001b[0;32m--> 493\u001b[0;31m             \u001b[0mresult\u001b[0m \u001b[0;34m=\u001b[0m \u001b[0mself\u001b[0m\u001b[0;34m.\u001b[0m\u001b[0mforward\u001b[0m\u001b[0;34m(\u001b[0m\u001b[0;34m*\u001b[0m\u001b[0minput\u001b[0m\u001b[0;34m,\u001b[0m \u001b[0;34m**\u001b[0m\u001b[0mkwargs\u001b[0m\u001b[0;34m)\u001b[0m\u001b[0;34m\u001b[0m\u001b[0;34m\u001b[0m\u001b[0m\n\u001b[0m\u001b[1;32m    494\u001b[0m         \u001b[0;32mfor\u001b[0m \u001b[0mhook\u001b[0m \u001b[0;32min\u001b[0m \u001b[0mself\u001b[0m\u001b[0;34m.\u001b[0m\u001b[0m_forward_hooks\u001b[0m\u001b[0;34m.\u001b[0m\u001b[0mvalues\u001b[0m\u001b[0;34m(\u001b[0m\u001b[0;34m)\u001b[0m\u001b[0;34m:\u001b[0m\u001b[0;34m\u001b[0m\u001b[0;34m\u001b[0m\u001b[0m\n\u001b[1;32m    495\u001b[0m             \u001b[0mhook_result\u001b[0m \u001b[0;34m=\u001b[0m \u001b[0mhook\u001b[0m\u001b[0;34m(\u001b[0m\u001b[0mself\u001b[0m\u001b[0;34m,\u001b[0m \u001b[0minput\u001b[0m\u001b[0;34m,\u001b[0m \u001b[0mresult\u001b[0m\u001b[0;34m)\u001b[0m\u001b[0;34m\u001b[0m\u001b[0;34m\u001b[0m\u001b[0m\n",
      "\u001b[0;32m~/anaconda3/envs/zarr/lib/python3.7/site-packages/torch/nn/modules/rnn.py\u001b[0m in \u001b[0;36mforward\u001b[0;34m(self, input, hx)\u001b[0m\n\u001b[1;32m    205\u001b[0m             \u001b[0mhx\u001b[0m \u001b[0;34m=\u001b[0m \u001b[0mself\u001b[0m\u001b[0;34m.\u001b[0m\u001b[0mpermute_hidden\u001b[0m\u001b[0;34m(\u001b[0m\u001b[0mhx\u001b[0m\u001b[0;34m,\u001b[0m \u001b[0msorted_indices\u001b[0m\u001b[0;34m)\u001b[0m\u001b[0;34m\u001b[0m\u001b[0;34m\u001b[0m\u001b[0m\n\u001b[1;32m    206\u001b[0m \u001b[0;34m\u001b[0m\u001b[0m\n\u001b[0;32m--> 207\u001b[0;31m         \u001b[0mself\u001b[0m\u001b[0;34m.\u001b[0m\u001b[0mcheck_forward_args\u001b[0m\u001b[0;34m(\u001b[0m\u001b[0minput\u001b[0m\u001b[0;34m,\u001b[0m \u001b[0mhx\u001b[0m\u001b[0;34m,\u001b[0m \u001b[0mbatch_sizes\u001b[0m\u001b[0;34m)\u001b[0m\u001b[0;34m\u001b[0m\u001b[0;34m\u001b[0m\u001b[0m\n\u001b[0m\u001b[1;32m    208\u001b[0m         \u001b[0m_impl\u001b[0m \u001b[0;34m=\u001b[0m \u001b[0m_rnn_impls\u001b[0m\u001b[0;34m[\u001b[0m\u001b[0mself\u001b[0m\u001b[0;34m.\u001b[0m\u001b[0mmode\u001b[0m\u001b[0;34m]\u001b[0m\u001b[0;34m\u001b[0m\u001b[0;34m\u001b[0m\u001b[0m\n\u001b[1;32m    209\u001b[0m         \u001b[0;32mif\u001b[0m \u001b[0mbatch_sizes\u001b[0m \u001b[0;32mis\u001b[0m \u001b[0;32mNone\u001b[0m\u001b[0;34m:\u001b[0m\u001b[0;34m\u001b[0m\u001b[0;34m\u001b[0m\u001b[0m\n",
      "\u001b[0;32m~/anaconda3/envs/zarr/lib/python3.7/site-packages/torch/nn/modules/rnn.py\u001b[0m in \u001b[0;36mcheck_forward_args\u001b[0;34m(self, input, hidden, batch_sizes)\u001b[0m\n\u001b[1;32m    176\u001b[0m         \u001b[0mexpected_hidden_size\u001b[0m \u001b[0;34m=\u001b[0m \u001b[0mself\u001b[0m\u001b[0;34m.\u001b[0m\u001b[0mget_expected_hidden_size\u001b[0m\u001b[0;34m(\u001b[0m\u001b[0minput\u001b[0m\u001b[0;34m,\u001b[0m \u001b[0mbatch_sizes\u001b[0m\u001b[0;34m)\u001b[0m\u001b[0;34m\u001b[0m\u001b[0;34m\u001b[0m\u001b[0m\n\u001b[1;32m    177\u001b[0m \u001b[0;34m\u001b[0m\u001b[0m\n\u001b[0;32m--> 178\u001b[0;31m         \u001b[0mself\u001b[0m\u001b[0;34m.\u001b[0m\u001b[0mcheck_hidden_size\u001b[0m\u001b[0;34m(\u001b[0m\u001b[0mhidden\u001b[0m\u001b[0;34m,\u001b[0m \u001b[0mexpected_hidden_size\u001b[0m\u001b[0;34m)\u001b[0m\u001b[0;34m\u001b[0m\u001b[0;34m\u001b[0m\u001b[0m\n\u001b[0m\u001b[1;32m    179\u001b[0m \u001b[0;34m\u001b[0m\u001b[0m\n\u001b[1;32m    180\u001b[0m     \u001b[0;32mdef\u001b[0m \u001b[0mpermute_hidden\u001b[0m\u001b[0;34m(\u001b[0m\u001b[0mself\u001b[0m\u001b[0;34m,\u001b[0m \u001b[0mhx\u001b[0m\u001b[0;34m,\u001b[0m \u001b[0mpermutation\u001b[0m\u001b[0;34m)\u001b[0m\u001b[0;34m:\u001b[0m\u001b[0;34m\u001b[0m\u001b[0;34m\u001b[0m\u001b[0m\n",
      "\u001b[0;32m~/anaconda3/envs/zarr/lib/python3.7/site-packages/torch/nn/modules/rnn.py\u001b[0m in \u001b[0;36mcheck_hidden_size\u001b[0;34m(self, hx, expected_hidden_size, msg)\u001b[0m\n\u001b[1;32m    170\u001b[0m         \u001b[0;31m# type: (Tensor, Tuple[int, int, int], str) -> None\u001b[0m\u001b[0;34m\u001b[0m\u001b[0;34m\u001b[0m\u001b[0;34m\u001b[0m\u001b[0m\n\u001b[1;32m    171\u001b[0m         \u001b[0;32mif\u001b[0m \u001b[0mhx\u001b[0m\u001b[0;34m.\u001b[0m\u001b[0msize\u001b[0m\u001b[0;34m(\u001b[0m\u001b[0;34m)\u001b[0m \u001b[0;34m!=\u001b[0m \u001b[0mexpected_hidden_size\u001b[0m\u001b[0;34m:\u001b[0m\u001b[0;34m\u001b[0m\u001b[0;34m\u001b[0m\u001b[0m\n\u001b[0;32m--> 172\u001b[0;31m             \u001b[0;32mraise\u001b[0m \u001b[0mRuntimeError\u001b[0m\u001b[0;34m(\u001b[0m\u001b[0mmsg\u001b[0m\u001b[0;34m.\u001b[0m\u001b[0mformat\u001b[0m\u001b[0;34m(\u001b[0m\u001b[0mexpected_hidden_size\u001b[0m\u001b[0;34m,\u001b[0m \u001b[0mtuple\u001b[0m\u001b[0;34m(\u001b[0m\u001b[0mhx\u001b[0m\u001b[0;34m.\u001b[0m\u001b[0msize\u001b[0m\u001b[0;34m(\u001b[0m\u001b[0;34m)\u001b[0m\u001b[0;34m)\u001b[0m\u001b[0;34m)\u001b[0m\u001b[0;34m)\u001b[0m\u001b[0;34m\u001b[0m\u001b[0;34m\u001b[0m\u001b[0m\n\u001b[0m\u001b[1;32m    173\u001b[0m \u001b[0;34m\u001b[0m\u001b[0m\n\u001b[1;32m    174\u001b[0m     \u001b[0;32mdef\u001b[0m \u001b[0mcheck_forward_args\u001b[0m\u001b[0;34m(\u001b[0m\u001b[0mself\u001b[0m\u001b[0;34m,\u001b[0m \u001b[0minput\u001b[0m\u001b[0;34m,\u001b[0m \u001b[0mhidden\u001b[0m\u001b[0;34m,\u001b[0m \u001b[0mbatch_sizes\u001b[0m\u001b[0;34m)\u001b[0m\u001b[0;34m:\u001b[0m\u001b[0;34m\u001b[0m\u001b[0;34m\u001b[0m\u001b[0m\n",
      "\u001b[0;31mRuntimeError\u001b[0m: Expected hidden size (2, 1, 200), got (2, 64, 200)"
     ]
    }
   ],
   "source": [
    "model_t(x)"
   ]
  },
  {
   "cell_type": "code",
   "execution_count": 16,
   "metadata": {},
   "outputs": [
    {
     "data": {
      "text/plain": [
       "defaultdict(<function torchtext.vocab._default_unk_index()>,\n",
       "            {'<unk>': 0,\n",
       "             '<pad>': 1,\n",
       "             'hundred': 2,\n",
       "             'thousand': 3,\n",
       "             'five': 4,\n",
       "             'four': 5,\n",
       "             'one': 6,\n",
       "             'seven': 7,\n",
       "             'six': 8,\n",
       "             'three': 9,\n",
       "             'two': 10,\n",
       "             'eight': 11,\n",
       "             'nine': 12,\n",
       "             'eighty': 13,\n",
       "             'fifty': 14,\n",
       "             'forty': 15,\n",
       "             'ninety': 16,\n",
       "             'seventy': 17,\n",
       "             'sixty': 18,\n",
       "             'thirty': 19,\n",
       "             'twenty': 20,\n",
       "             'eighteen': 21,\n",
       "             'eleven': 22,\n",
       "             'fifteen': 23,\n",
       "             'fourteen': 24,\n",
       "             'nineteen': 25,\n",
       "             'seventeen': 26,\n",
       "             'sixteen': 27,\n",
       "             'ten': 28,\n",
       "             'thirteen': 29,\n",
       "             'twelve': 30})"
      ]
     },
     "execution_count": 16,
     "metadata": {},
     "output_type": "execute_result"
    }
   ],
   "source": [
    "field.vocab.stoi"
   ]
  },
  {
   "cell_type": "code",
   "execution_count": 31,
   "metadata": {},
   "outputs": [
    {
     "data": {
      "text/plain": [
       "6"
      ]
     },
     "execution_count": 31,
     "metadata": {},
     "output_type": "execute_result"
    }
   ],
   "source": [
    "lm_ds.fields['text'].vocab.stoi['one']"
   ]
  },
  {
   "cell_type": "code",
   "execution_count": 23,
   "metadata": {},
   "outputs": [],
   "source": [
    "m = nn.GRU(5, 5, batch_first=True)\n",
    "emb = nn.Embedding(4,5)"
   ]
  },
  {
   "cell_type": "code",
   "execution_count": 15,
   "metadata": {},
   "outputs": [],
   "source": [
    "x = torch.Tensor([[[1, 2, 3, 4, 5]]])"
   ]
  },
  {
   "cell_type": "code",
   "execution_count": 34,
   "metadata": {},
   "outputs": [
    {
     "data": {
      "text/plain": [
       "tensor([[[0.4606, 1.2860, 2.3383, 3.9535, 0.2767]]],\n",
       "       grad_fn=<TransposeBackward0>)"
      ]
     },
     "execution_count": 34,
     "metadata": {},
     "output_type": "execute_result"
    }
   ],
   "source": [
    "yh = m(x, x)[0]\n",
    "yh"
   ]
  },
  {
   "cell_type": "code",
   "execution_count": 29,
   "metadata": {},
   "outputs": [
    {
     "data": {
      "text/plain": [
       "(tensor([[[ 0.5382, -0.0123, -0.0185,  0.0693, -0.1184]]],\n",
       "        grad_fn=<TransposeBackward0>),\n",
       " tensor([[[ 0.5382, -0.0123, -0.0185,  0.0693, -0.1184]]],\n",
       "        grad_fn=<StackBackward>))"
      ]
     },
     "execution_count": 29,
     "metadata": {},
     "output_type": "execute_result"
    }
   ],
   "source": [
    "m(emb(torch.argmax(nn.Softmax(dim=2)(yh), dim=2)))"
   ]
  },
  {
   "cell_type": "code",
   "execution_count": 40,
   "metadata": {},
   "outputs": [
    {
     "data": {
      "text/plain": [
       "3"
      ]
     },
     "execution_count": 40,
     "metadata": {},
     "output_type": "execute_result"
    }
   ],
   "source": [
    "(torch.argmax(nn.Softmax(dim=2)(yh), dim=2)[0, 0]).item()"
   ]
  },
  {
   "cell_type": "code",
   "execution_count": null,
   "metadata": {},
   "outputs": [],
   "source": []
  }
 ],
 "metadata": {
  "kernelspec": {
   "display_name": "Python 3",
   "language": "python",
   "name": "python3"
  },
  "language_info": {
   "codemirror_mode": {
    "name": "ipython",
    "version": 3
   },
   "file_extension": ".py",
   "mimetype": "text/x-python",
   "name": "python",
   "nbconvert_exporter": "python",
   "pygments_lexer": "ipython3",
   "version": "3.7.2"
  }
 },
 "nbformat": 4,
 "nbformat_minor": 2
}
